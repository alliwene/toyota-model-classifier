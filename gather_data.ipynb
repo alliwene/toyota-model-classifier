{
  "nbformat": 4,
  "nbformat_minor": 0,
  "metadata": {
    "colab": {
      "name": "gather_data.ipynb",
      "provenance": [],
      "collapsed_sections": [],
      "authorship_tag": "ABX9TyMbjYQhpHHTzWN8n8y/JIoZ",
      "include_colab_link": true
    },
    "kernelspec": {
      "name": "python3",
      "display_name": "Python 3"
    },
    "language_info": {
      "name": "python"
    }
  },
  "cells": [
    {
      "cell_type": "markdown",
      "metadata": {
        "id": "view-in-github",
        "colab_type": "text"
      },
      "source": [
        "<a href=\"https://colab.research.google.com/github/alliwene/toyota-model-classifier/blob/main/gather_data.ipynb\" target=\"_parent\"><img src=\"https://colab.research.google.com/assets/colab-badge.svg\" alt=\"Open In Colab\"/></a>"
      ]
    },
    {
      "cell_type": "code",
      "metadata": {
        "colab": {
          "base_uri": "https://localhost:8080/"
        },
        "id": "zomTIMNpPtS5",
        "outputId": "6ef4b49e-4c06-4b46-c40e-f7b34f93927f"
      },
      "source": [
        "# Mount Google Drive\n",
        "from google.colab import drive # import drive from google colab\n",
        "import os, random, sys \n",
        "ROOT = \"/content/drive\"     # default location for the drive\n",
        "\n",
        "drive.mount(ROOT, force_remount=True)  "
      ],
      "execution_count": 1,
      "outputs": [
        {
          "output_type": "stream",
          "text": [
            "Mounted at /content/drive\n"
          ],
          "name": "stdout"
        }
      ]
    },
    {
      "cell_type": "code",
      "metadata": {
        "colab": {
          "base_uri": "https://localhost:8080/"
        },
        "id": "6xbHEWEyQCTJ",
        "outputId": "c045892f-00fc-4a7c-9009-aa65316aead3"
      },
      "source": [
        "# set file path\n",
        "path = \"/content/drive/My Drive/toyota_data/train\"\n",
        "os.chdir(path)\n",
        "!ls"
      ],
      "execution_count": 2,
      "outputs": [
        {
          "output_type": "stream",
          "text": [
            " 4Runner   Camry       'Land cruiser'   RAV4\t  Supra    Venza\n",
            " 86\t   Corolla      Mirai\t        Sequoia   Tacoma   Yaris\n",
            " Avalon    Highlander   Prius\t        Sienna\t  Tundra\n"
          ],
          "name": "stdout"
        }
      ]
    },
    {
      "cell_type": "code",
      "metadata": {
        "id": "Y9UvtfJsQRWx"
      },
      "source": [
        "# !pip install -Uqq fastbook --quiet"
      ],
      "execution_count": null,
      "outputs": []
    },
    {
      "cell_type": "code",
      "metadata": {
        "id": "j_-ce2ZXQCHV",
        "colab": {
          "base_uri": "https://localhost:8080/"
        },
        "outputId": "e0efafd6-4d58-4146-c915-ff22dab725a6"
      },
      "source": [
        "import fastbook\n",
        "fastbook.setup_book() "
      ],
      "execution_count": null,
      "outputs": [
        {
          "output_type": "stream",
          "text": [
            "Mounted at /content/gdrive\n"
          ],
          "name": "stdout"
        }
      ]
    },
    {
      "cell_type": "code",
      "metadata": {
        "id": "bHWCZBV65eHX"
      },
      "source": [
        "from fastbook import *\n",
        "from fastai.vision.widgets import *\n",
        "from pathlib import Path"
      ],
      "execution_count": null,
      "outputs": []
    },
    {
      "cell_type": "code",
      "metadata": {
        "id": "iAXa4V0w7eEz"
      },
      "source": [
        "from PIL import Image"
      ],
      "execution_count": null,
      "outputs": []
    },
    {
      "cell_type": "markdown",
      "metadata": {
        "id": "kXRLuo9ahB_I"
      },
      "source": [
        "### Gather data using Bing API"
      ]
    },
    {
      "cell_type": "code",
      "metadata": {
        "id": "dPosWvDGagcc"
      },
      "source": [
        "key = os.environ.get('AZURE_SEARCH_KEY', 'X')"
      ],
      "execution_count": null,
      "outputs": []
    },
    {
      "cell_type": "code",
      "metadata": {
        "id": "-rxTCYn1an0c"
      },
      "source": [
        "brands = ['Sienna','Tacoma','Tundra', '4Runner', 'Highlander', 'Land cruiser',\n",
        "          'RAV4', 'Sequoia', 'Venza', '86', 'Avalon', 'Camry', 'Corolla', \n",
        "          'Mirai', 'Prius', 'Supra', 'Yaris']\n",
        "path = Path(path)"
      ],
      "execution_count": null,
      "outputs": []
    },
    {
      "cell_type": "code",
      "metadata": {
        "id": "iG4vcyqwanjg"
      },
      "source": [
        "for b in brands:\n",
        "    dest = (path/b)\n",
        "    dest.mkdir(exist_ok=True)\n",
        "    results = search_images_bing(key, f'toyota {b}')\n",
        "    download_images(dest, urls=results.attrgot('contentUrl'))"
      ],
      "execution_count": null,
      "outputs": []
    },
    {
      "cell_type": "code",
      "metadata": {
        "colab": {
          "base_uri": "https://localhost:8080/"
        },
        "id": "GaWg7L1UgesS",
        "outputId": "2fa33e1e-0f4f-4ad6-c748-107712241789"
      },
      "source": [
        "# assign all saved images fns\n",
        "fns = get_image_files(path)\n",
        "fns"
      ],
      "execution_count": null,
      "outputs": [
        {
          "output_type": "execute_result",
          "data": {
            "text/plain": [
              "(#2376) [Path('/content/drive/My Drive/toyota_data/train/Sienna/00000007.jpg'),Path('/content/drive/My Drive/toyota_data/train/Sienna/00000005.jpg'),Path('/content/drive/My Drive/toyota_data/train/Sienna/00000004.jpg'),Path('/content/drive/My Drive/toyota_data/train/Sienna/00000000.jpg'),Path('/content/drive/My Drive/toyota_data/train/Sienna/00000002.jpg'),Path('/content/drive/My Drive/toyota_data/train/Sienna/00000001.jpg'),Path('/content/drive/My Drive/toyota_data/train/Sienna/00000003.jpg'),Path('/content/drive/My Drive/toyota_data/train/Sienna/00000006.jpg'),Path('/content/drive/My Drive/toyota_data/train/Sienna/00000008.jpg'),Path('/content/drive/My Drive/toyota_data/train/Sienna/00000012.jpg')...]"
            ]
          },
          "metadata": {
            "tags": []
          },
          "execution_count": 17
        }
      ]
    },
    {
      "cell_type": "markdown",
      "metadata": {
        "id": "pwJyW7Z3hfgd"
      },
      "source": [
        "### Clean data"
      ]
    },
    {
      "cell_type": "code",
      "metadata": {
        "colab": {
          "base_uri": "https://localhost:8080/"
        },
        "id": "gbej9SYSkCr0",
        "outputId": "291c9575-a7ee-44f2-d01a-220552fad78e"
      },
      "source": [
        "# get corrupted images \n",
        "failed = verify_images(fns)\n",
        "failed"
      ],
      "execution_count": null,
      "outputs": [
        {
          "output_type": "execute_result",
          "data": {
            "text/plain": [
              "(#36) [Path('/content/drive/My Drive/toyota_data/Sienna/00000009.jpg'),Path('/content/drive/My Drive/toyota_data/Sienna/00000024.jpg'),Path('/content/drive/My Drive/toyota_data/Tacoma/00000038.jpg'),Path('/content/drive/My Drive/toyota_data/Tacoma/00000074.jpg'),Path('/content/drive/My Drive/toyota_data/Tacoma/00000149.jpg'),Path('/content/drive/My Drive/toyota_data/Tundra/00000101.jpeg'),Path('/content/drive/My Drive/toyota_data/Tundra/00000107.jpg'),Path('/content/drive/My Drive/toyota_data/Tundra/00000103.jpg'),Path('/content/drive/My Drive/toyota_data/4Runner/00000137.jpg'),Path('/content/drive/My Drive/toyota_data/Highlander/00000004.jpg')...]"
            ]
          },
          "metadata": {
            "tags": []
          },
          "execution_count": 44
        }
      ]
    },
    {
      "cell_type": "code",
      "metadata": {
        "id": "rkeYf7figeWs"
      },
      "source": [
        "# delete corrupted images \n",
        "failed.map(Path.unlink);"
      ],
      "execution_count": null,
      "outputs": []
    },
    {
      "cell_type": "markdown",
      "metadata": {
        "id": "B9-rb87uhLHa"
      },
      "source": [
        "Remove files that are not images"
      ]
    },
    {
      "cell_type": "code",
      "metadata": {
        "colab": {
          "base_uri": "https://localhost:8080/"
        },
        "id": "ApzTzAwVY7ek",
        "outputId": "0ddcdc3f-a0dd-4780-e31a-225ed58516e5"
      },
      "source": [
        "drop = []\n",
        "for folder in os.listdir(path):\n",
        "  for f in os.listdir(folder):\n",
        "    if not f.endswith(('.jpg', '.png', '.jpeg')):\n",
        "      drop.append(os.path.join(path, folder, f))\n",
        "      os.remove(os.path.join(path, folder, f))\n",
        "print(drop)\n",
        "print(len(drop))"
      ],
      "execution_count": null,
      "outputs": [
        {
          "output_type": "stream",
          "text": [
            "['/content/drive/My Drive/toyota_data/train/Sienna/00000018.jpg?quality=85&width=1440&quality=70', '/content/drive/My Drive/toyota_data/train/Sienna/00000021.jpg?quality=60', '/content/drive/My Drive/toyota_data/train/Sienna/00000049.jpg&x=0&y=0&sw=0&sh=0&sl=W&fw=1050', '/content/drive/My Drive/toyota_data/train/Sienna/00000117.jpg?width=&height=', '/content/drive/My Drive/toyota_data/train/Sienna/00000131.jpg?r=560', '/content/drive/My Drive/toyota_data/train/Sienna/00000141.jpg?quality=60', '/content/drive/My Drive/toyota_data/train/Tacoma/00000008.jpg?quality=85', '/content/drive/My Drive/toyota_data/train/Tacoma/00000025.jpg?quality=85', '/content/drive/My Drive/toyota_data/train/4Runner/00000010.JPG', '/content/drive/My Drive/toyota_data/train/4Runner/00000073.jpg?v=1', '/content/drive/My Drive/toyota_data/train/4Runner/00000069.jpg?crc=347497290', '/content/drive/My Drive/toyota_data/train/4Runner/00000119.jpg?fit=940%2C768', '/content/drive/My Drive/toyota_data/train/4Runner/00000128.jpg?ssl=1', '/content/drive/My Drive/toyota_data/train/4Runner/00000148.jpg?fit=728%2C448&ssl=1', '/content/drive/My Drive/toyota_data/train/Highlander/00000074.jpg?fit=790%2C438&ssl=1', '/content/drive/My Drive/toyota_data/train/Land cruiser/00000048.JPG', '/content/drive/My Drive/toyota_data/train/Land cruiser/00000133.75mOXckO8V3He628', '/content/drive/My Drive/toyota_data/train/Sequoia/00000005.jpg?quality=85', '/content/drive/My Drive/toyota_data/train/Sequoia/00000031.1875', '/content/drive/My Drive/toyota_data/train/Venza/00000110.113732459?w=1280&h=960&q=75&fit=max&s=480d29dcea0275164a1a71e2883b1921', '/content/drive/My Drive/toyota_data/train/Avalon/00000017.JPG', '/content/drive/My Drive/toyota_data/train/Avalon/00000023.JPG', '/content/drive/My Drive/toyota_data/train/Camry/00000045.jpg?wm=0&q=85', '/content/drive/My Drive/toyota_data/train/Camry/00000089.JPG', '/content/drive/My Drive/toyota_data/train/Camry/00000104.jpg?q=85', '/content/drive/My Drive/toyota_data/train/Camry/00000117.jpg?1024x640', '/content/drive/My Drive/toyota_data/train/Camry/00000137.JPG', '/content/drive/My Drive/toyota_data/train/Camry/00000141.jpg?560261&560261', '/content/drive/My Drive/toyota_data/train/Corolla/00000067.JPG', '/content/drive/My Drive/toyota_data/train/Corolla/00000093.jpg?width=800', '/content/drive/My Drive/toyota_data/train/Mirai/00000033.jpg?ssl=1', '/content/drive/My Drive/toyota_data/train/Mirai/00000079.JPG', '/content/drive/My Drive/toyota_data/train/Mirai/00000088.jpg?width=940&quality=80', '/content/drive/My Drive/toyota_data/train/Prius/00000074.JPG', '/content/drive/My Drive/toyota_data/train/Prius/00000108.JPG', '/content/drive/My Drive/toyota_data/train/Supra/00000052.22451', '/content/drive/My Drive/toyota_data/train/Yaris/00000024.JPG', '/content/drive/My Drive/toyota_data/train/Yaris/00000045.JPG', '/content/drive/My Drive/toyota_data/train/Yaris/00000055.JPG']\n",
            "39\n"
          ],
          "name": "stdout"
        }
      ]
    },
    {
      "cell_type": "markdown",
      "metadata": {
        "id": "8G08fEsrjF_R"
      },
      "source": [
        "Convert png to RGB jpg"
      ]
    },
    {
      "cell_type": "code",
      "metadata": {
        "id": "bKwg394xZ6WC"
      },
      "source": [
        "c = 1\n",
        "for folder in os.listdir(path):\n",
        "  for f in os.listdir(folder):\n",
        "    if f.endswith(('.png')):\n",
        "      im = Image.open(os.path.join(path, folder, f))\n",
        "      name = 'img'+str(c)+'.jpg'\n",
        "      rgb_im = im.convert('RGB')\n",
        "      rgb_im.save(os.path.join(path, folder, name))\n",
        "      c+=1\n",
        "      print('.')\n",
        "      os.remove(os.path.join(path, folder, f))      "
      ],
      "execution_count": null,
      "outputs": []
    },
    {
      "cell_type": "markdown",
      "metadata": {
        "id": "YMRPQERC8l-U"
      },
      "source": [
        "Check for palette images. Convert palette image to RGB and delete palette image.\n",
        "\n"
      ]
    },
    {
      "cell_type": "code",
      "metadata": {
        "id": "3zOajHbAY7Db",
        "colab": {
          "base_uri": "https://localhost:8080/"
        },
        "outputId": "2df04d6b-8f13-401d-d636-d76785578849"
      },
      "source": [
        "c = 0\n",
        "for folder in os.listdir(path):\n",
        "  for f in os.listdir(folder):\n",
        "    if f.endswith(('.jpg', '.jpeg')):\n",
        "      im = Image.open(os.path.join(path, folder, f))\n",
        "      if im.mode == \"P\":\n",
        "        print(os.path.join(path, folder, f))\n",
        "        name = 'P00000'+str(c)+'.jpg'\n",
        "        rgb_im = im.convert('RGB')\n",
        "        rgb_im.save(os.path.join(path, folder, name))\n",
        "        c += 1\n",
        "        print(os.path.join(path, folder, name))\n",
        "        os.remove(os.path.join(path, folder, f))"
      ],
      "execution_count": 7,
      "outputs": [
        {
          "output_type": "stream",
          "text": [
            "/content/drive/My Drive/toyota_data/train/Supra/00000141.jpg\n",
            "/content/drive/My Drive/toyota_data/train/Supra/P000000.jpg\n"
          ],
          "name": "stdout"
        },
        {
          "output_type": "stream",
          "text": [
            "/usr/local/lib/python3.7/dist-packages/PIL/Image.py:932: UserWarning: Palette images with Transparency expressed in bytes should be converted to RGBA images\n",
            "  \"Palette images with Transparency expressed in bytes should be \"\n"
          ],
          "name": "stderr"
        }
      ]
    },
    {
      "cell_type": "code",
      "metadata": {
        "id": "QRh07G_RdIt2"
      },
      "source": [
        ""
      ],
      "execution_count": null,
      "outputs": []
    }
  ]
}